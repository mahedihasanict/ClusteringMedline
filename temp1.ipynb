{
  "nbformat": 4,
  "nbformat_minor": 0,
  "metadata": {
    "colab": {
      "name": "temp1.ipynb",
      "provenance": [],
      "collapsed_sections": [],
      "include_colab_link": true
    },
    "kernelspec": {
      "name": "python3",
      "display_name": "Python 3"
    }
  },
  "cells": [
    {
      "cell_type": "markdown",
      "metadata": {
        "id": "view-in-github",
        "colab_type": "text"
      },
      "source": [
        "<a href=\"https://colab.research.google.com/github/mahedihasanict/ClusteringMedline/blob/master/temp1.ipynb\" target=\"_parent\"><img src=\"https://colab.research.google.com/assets/colab-badge.svg\" alt=\"Open In Colab\"/></a>"
      ]
    },
    {
      "cell_type": "code",
      "metadata": {
        "id": "NVgUEHN2E-AD",
        "colab_type": "code",
        "outputId": "7a100d17-28e1-451c-a101-a37066477ea1",
        "colab": {
          "base_uri": "https://localhost:8080/",
          "height": 255
        }
      },
      "source": [
        "import pandas as pd\n",
        "\n",
        "url = 'https://raw.githubusercontent.com/mahedihasanict/common/master/Cricket.xlsx'\n",
        "df1 = pd.read_excel(url)\n",
        "print (df1)\n"
      ],
      "execution_count": 0,
      "outputs": [
        {
          "output_type": "stream",
          "text": [
            "           Source                 Date  ...         Category  Polarity\n",
            "0      BBC Bangla  2018-06-03 00:00:00  ...            other  positive\n",
            "1      BBC Bangla  2018-06-04 00:00:00  ...             team  positive\n",
            "2      BBC Bangla            15/6/2017  ...             team  positive\n",
            "3      BBC Bangla            15/6/2020  ...          batting  negative\n",
            "4      BBC Bangla            27/1/2018  ...             team  positive\n",
            "...           ...                  ...  ...              ...       ...\n",
            "2974  Prothom Alo  2018-11-02 00:00:00  ...  team management  negative\n",
            "2975  Prothom Alo  2018-11-02 00:00:00  ...          batting  negative\n",
            "2976  Prothom Alo  2018-11-02 00:00:00  ...          bowling  negative\n",
            "2977  Prothom Alo  2018-11-02 00:00:00  ...  team management  negative\n",
            "2978  Prothom Alo  2018-11-02 00:00:00  ...  team management  negative\n",
            "\n",
            "[2979 rows x 5 columns]\n"
          ],
          "name": "stdout"
        }
      ]
    }
  ]
}